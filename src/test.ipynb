{
 "cells": [
  {
   "cell_type": "code",
   "execution_count": 11,
   "metadata": {},
   "outputs": [],
   "source": [
    "import pandas as pd\n",
    "import numpy as np\n",
    "from bs4 import BeautifulSoup\n",
    "import urllib.request\n",
    "\n",
    "def get_synopsis(row):\n",
    "    fp = urllib.request.urlopen(f'https://www.imdb.com/title/{row.tconst}/plotsummary#synopsis')\n",
    "    mybytes = fp.read()\n",
    "    html_doc = mybytes.decode(\"utf8\")\n",
    "    fp.close()\n",
    "\n",
    "    soup = BeautifulSoup(html_doc, 'html.parser')\n",
    "    synopsis_ul = soup.find(id='plot-synopsis-content').li\n",
    "\n",
    "    is_empty = (synopsis_ul.p != None)\n",
    "\n",
    "\n",
    "    # if empty, skip or get summaries\n",
    "    if is_empty:\n",
    "        #summaries_ul = soup.find(id='plot-summaries-content')\n",
    "        #print(summaries_ul.li)\n",
    "        #return summaries_ul.li[0]\n",
    "        return np.nan\n",
    "        \n",
    "    return synopsis_ul.get_text()\n"
   ]
  },
  {
   "cell_type": "code",
   "execution_count": 15,
   "metadata": {},
   "outputs": [],
   "source": [
    "df = pd.read_csv('../data/data.csv', delimiter=';')\n",
    "\n",
    "df['synopsis'] = df.apply(get_synopsis, axis=1)\n",
    "df"
   ]
  }
 ],
 "metadata": {
  "kernelspec": {
   "display_name": "Python 3.10.4 64-bit",
   "language": "python",
   "name": "python3"
  },
  "language_info": {
   "codemirror_mode": {
    "name": "ipython",
    "version": 3
   },
   "file_extension": ".py",
   "mimetype": "text/x-python",
   "name": "python",
   "nbconvert_exporter": "python",
   "pygments_lexer": "ipython3",
   "version": "3.10.4"
  },
  "orig_nbformat": 4,
  "vscode": {
   "interpreter": {
    "hash": "aee8b7b246df8f9039afb4144a1f6fd8d2ca17a180786b69acc140d282b71a49"
   }
  }
 },
 "nbformat": 4,
 "nbformat_minor": 2
}
