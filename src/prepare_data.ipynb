{
 "cells": [
  {
   "cell_type": "code",
   "execution_count": 50,
   "metadata": {},
   "outputs": [
    {
     "name": "stderr",
     "output_type": "stream",
     "text": [
      "/var/folders/04/05jdn06x4bd37twbh8c046nr0000gn/T/ipykernel_75614/3728801497.py:3: DtypeWarning: Columns (7) have mixed types. Specify dtype option on import or set low_memory=False.\n",
      "  title_akas = pd.read_csv('../downloads/title.akas.tsv', delimiter='\\t')\n",
      "/var/folders/04/05jdn06x4bd37twbh8c046nr0000gn/T/ipykernel_75614/3728801497.py:4: DtypeWarning: Columns (4) have mixed types. Specify dtype option on import or set low_memory=False.\n",
      "  title_basics = pd.read_csv('../downloads/title.basics.tsv', delimiter='\\t')\n"
     ]
    }
   ],
   "source": [
    "import pandas as pd\n",
    "\n",
    "title_akas = pd.read_csv('../downloads/title.akas.tsv', delimiter='\\t')\n",
    "title_basics = pd.read_csv('../downloads/title.basics.tsv', delimiter='\\t')\n",
    "title_crew = pd.read_csv('../downloads/title.crew.tsv', delimiter='\\t', dtype={'directors': 'str'})\n",
    "title_ratings = pd.read_csv('../downloads/title.ratings.tsv', delimiter='\\t')\n",
    "name_basics = pd.read_csv('../downloads/name.basics.tsv', delimiter='\\t')"
   ]
  },
  {
   "cell_type": "code",
   "execution_count": 30,
   "metadata": {},
   "outputs": [],
   "source": [
    "# auxiliary functions \n",
    "\n",
    "def drop_columns(df, columns): return df.drop(labels=columns, axis=1)\n"
   ]
  },
  {
   "cell_type": "code",
   "execution_count": 77,
   "metadata": {},
   "outputs": [],
   "source": [
    "def get_director_names(row):\n",
    "  directors_code = row['directors'].split(\",\")\n",
    "\n",
    "  if directors_code == '\\\\N': \n",
    "    row['directors'] = None\n",
    "    return\n",
    "  \n",
    "  directors_code = row['directors'].split(\",\")\n",
    "  row['directors'] = ''\n",
    "\n",
    "  for code in directors_code:\n",
    "    row['directors'] += name_basics[name_basics['nconst'] == code]['primaryName']\n",
    "  "
   ]
  },
  {
   "cell_type": "code",
   "execution_count": 55,
   "metadata": {},
   "outputs": [],
   "source": [
    "#  filter by titleType\n",
    "\n",
    "title_basics = title_basics[(title_basics['titleType'] == 'movie') | (title_basics['titleType'] == 'tvMovie')]"
   ]
  },
  {
   "cell_type": "code",
   "execution_count": 56,
   "metadata": {},
   "outputs": [],
   "source": [
    "# drop useless columns \n",
    "\n",
    "title_akas = drop_columns(title_akas, ['ordering', 'types', 'attributes', 'title'])\n",
    "title_basics = drop_columns(title_basics, ['endYear', 'titleType'])\n",
    "title_crew = drop_columns(title_crew, ['writers'])\n",
    "title_ratings = drop_columns(title_ratings, ['numVotes'])\n",
    "name_basics = drop_columns(name_basics, ['birthYear', 'deathYear', 'primaryProfession', 'knownForTitles'])"
   ]
  },
  {
   "cell_type": "code",
   "execution_count": 58,
   "metadata": {},
   "outputs": [],
   "source": [
    "df = title_basics.merge(\n",
    "  title_crew, on='tconst', how='left').merge(\n",
    "    title_ratings, on='tconst', how='left')\n"
   ]
  },
  {
   "cell_type": "code",
   "execution_count": 78,
   "metadata": {},
   "outputs": [],
   "source": [
    "df.apply(lambda row: get_director_names(row), axis=1)\n",
    "df"
   ]
  },
  {
   "cell_type": "markdown",
   "metadata": {},
   "source": [
    "# TODO:\n",
    "- remover filmes mais antigos que x data\n",
    "- filtrar filmes apenas em en\n",
    "- remover filmes sem sinopse (isto é quando formos fazer o webscrapping ig)\n"
   ]
  }
 ],
 "metadata": {
  "kernelspec": {
   "display_name": "Python 3.10.4 64-bit",
   "language": "python",
   "name": "python3"
  },
  "language_info": {
   "codemirror_mode": {
    "name": "ipython",
    "version": 3
   },
   "file_extension": ".py",
   "mimetype": "text/x-python",
   "name": "python",
   "nbconvert_exporter": "python",
   "pygments_lexer": "ipython3",
   "version": "3.10.4"
  },
  "orig_nbformat": 4,
  "vscode": {
   "interpreter": {
    "hash": "aee8b7b246df8f9039afb4144a1f6fd8d2ca17a180786b69acc140d282b71a49"
   }
  }
 },
 "nbformat": 4,
 "nbformat_minor": 2
}
