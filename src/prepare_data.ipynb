{
 "cells": [
  {
   "cell_type": "code",
   "execution_count": 61,
   "metadata": {},
   "outputs": [],
   "source": [
    "import pandas as pd\n",
    "import numpy as np\n",
    "\n",
    "title_akas = pd.read_csv('../downloads/title.akas.tsv', delimiter='\\t', dtype={'isOriginalTitle': object})\n",
    "title_basics = pd.read_csv('../downloads/title.basics.tsv', delimiter='\\t', dtype={'isAdult': object})\n",
    "title_crew = pd.read_csv('../downloads/title.crew.tsv', delimiter='\\t', dtype={'directors': str})\n",
    "title_ratings = pd.read_csv('../downloads/title.ratings.tsv', delimiter='\\t')\n",
    "name_basics = pd.read_csv('../downloads/name.basics.tsv', delimiter='\\t', dtype={'primaryName': str})"
   ]
  },
  {
   "cell_type": "code",
   "execution_count": 62,
   "metadata": {},
   "outputs": [],
   "source": [
    "# filter by titleType\n",
    "\n",
    "title_basics = title_basics[(title_basics['titleType'] == 'movie') | (title_basics['titleType'] == 'tvMovie')]\n",
    "title_basics.reset_index(inplace=True)\n",
    "\n",
    "# filter by isOriginalTitle\n",
    "\n",
    "title_akas = title_akas[(title_akas['isOriginalTitle'] == '1') | (title_akas['isOriginalTitle'] == '\\\\N')]\n",
    "title_akas.reset_index(inplace=True)\n"
   ]
  },
  {
   "cell_type": "code",
   "execution_count": 63,
   "metadata": {},
   "outputs": [],
   "source": [
    "# remove duplicate values with null value in 'isOriginalTitle' column\n",
    "\n",
    "duplicates = title_akas[title_akas.duplicated(['titleId'])]\n",
    "duplicates = duplicates[(duplicates['isOriginalTitle'] == '\\\\N') | (duplicates['attributes'] != '\\\\N')]\n",
    "\n",
    "title_akas.drop(labels=duplicates.index, axis=0, inplace=True)\n",
    "title_akas.reset_index(inplace=True)"
   ]
  },
  {
   "cell_type": "code",
   "execution_count": 64,
   "metadata": {},
   "outputs": [],
   "source": [
    "duplicates = title_akas[title_akas.duplicated(['titleId'])]\n",
    "\n",
    "title_akas.drop(labels=duplicates.index, axis=0, inplace=True)\n",
    "title_akas.reset_index(inplace=True, drop=True)"
   ]
  },
  {
   "cell_type": "code",
   "execution_count": 65,
   "metadata": {},
   "outputs": [],
   "source": [
    "# drop useless columns \n",
    "\n",
    "title_akas.drop(labels=['ordering', 'types', 'attributes', 'title', 'isOriginalTitle'], axis=1, inplace=True)\n",
    "title_basics.drop(labels=['endYear', 'titleType'], axis=1, inplace=True)\n",
    "title_crew.drop(labels=['writers'], axis=1, inplace=True)\n",
    "title_ratings.drop(labels=['numVotes'], axis=1, inplace=True)\n",
    "name_basics.drop(labels=['birthYear', 'deathYear', 'primaryProfession', 'knownForTitles'], axis=1, inplace=True)"
   ]
  },
  {
   "cell_type": "code",
   "execution_count": 66,
   "metadata": {},
   "outputs": [
    {
     "data": {
      "text/plain": [
       "\\N     1790606\n",
       "en           4\n",
       "tr           1\n",
       "yue          1\n",
       "da           1\n",
       "ca           1\n",
       "Name: language, dtype: int64"
      ]
     },
     "execution_count": 66,
     "metadata": {},
     "output_type": "execute_result"
    }
   ],
   "source": [
    "title_akas['language'].value_counts()"
   ]
  },
  {
   "cell_type": "markdown",
   "metadata": {},
   "source": [
    ":warning:  language column values have little to none importance, hence not using this dataframe"
   ]
  },
  {
   "cell_type": "code",
   "execution_count": 67,
   "metadata": {},
   "outputs": [],
   "source": [
    "# If it is to remove movies before a certain year\n",
    "# Remove from title_basics\n",
    "\n",
    "\n",
    "#REVIEW\n",
    "# I don't think we should remove them \n",
    "# Bia"
   ]
  },
  {
   "cell_type": "code",
   "execution_count": 68,
   "metadata": {},
   "outputs": [],
   "source": [
    "df = title_basics.merge(\n",
    "  title_crew, on='tconst', how='left').merge(\n",
    "    title_ratings, on='tconst', how='left')"
   ]
  },
  {
   "cell_type": "code",
   "execution_count": 69,
   "metadata": {},
   "outputs": [],
   "source": [
    "# explode movie rows with more than one director into multiple rows, each one with only one director code\n",
    "\n",
    "df = df.assign(directors=df['directors'].str.split(',')).explode('directors')\n",
    "df = df.merge(name_basics, left_on='directors', right_on='nconst', how='left')\n",
    "\n",
    "# drop useless columns\n",
    "\n",
    "df.drop(labels=['directors', 'nconst'], axis=1, inplace=True)\n",
    "df.rename(columns={'primaryName' : 'directors'}, inplace=True)"
   ]
  },
  {
   "cell_type": "code",
   "execution_count": 72,
   "metadata": {},
   "outputs": [],
   "source": [
    "# remove duplicate rows while joining director names\n",
    "df['directors'] = df['directors'].astype(str)\n",
    "directors_column = df.groupby(['tconst']).agg({'directors': ', '.join})['directors'].values\n",
    "\n",
    "df.drop_duplicates(subset='tconst', inplace=True)\n",
    "df['directors'] = directors_column\n",
    "df.reset_index(inplace=True)\n",
    "\n",
    "df"
   ]
  },
  {
   "cell_type": "markdown",
   "metadata": {},
   "source": [
    "# TODO:\n",
    "- remover filmes mais antigos que x data\n",
    "- filtrar filmes apenas em en \n",
    "  - not enough values\n",
    "- remover filmes sem sinopse (isto é quando formos fazer o webscrapping ig)\n"
   ]
  }
 ],
 "metadata": {
  "kernelspec": {
   "display_name": "Python 3.10.4 64-bit",
   "language": "python",
   "name": "python3"
  },
  "language_info": {
   "codemirror_mode": {
    "name": "ipython",
    "version": 3
   },
   "file_extension": ".py",
   "mimetype": "text/x-python",
   "name": "python",
   "nbconvert_exporter": "python",
   "pygments_lexer": "ipython3",
   "version": "3.10.4"
  },
  "orig_nbformat": 4,
  "vscode": {
   "interpreter": {
    "hash": "aee8b7b246df8f9039afb4144a1f6fd8d2ca17a180786b69acc140d282b71a49"
   }
  }
 },
 "nbformat": 4,
 "nbformat_minor": 2
}
