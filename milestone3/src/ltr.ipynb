{
 "cells": [
  {
   "cell_type": "code",
   "execution_count": 1,
   "metadata": {},
   "outputs": [],
   "source": [
    "import pandas as pd\n",
    "import requests\n",
    "import subprocess\n",
    "import json"
   ]
  },
  {
   "cell_type": "code",
   "execution_count": 2,
   "metadata": {},
   "outputs": [],
   "source": [
    "QUERIES = [ \n",
    "    \"http://localhost:8983/solr/imdb_movies/select?defType=dismax&fl=*%20[features]&indent=true&q.op=OR&q=christmas%5E2%20santa%5E2%20snow%20elf%20rodolf%20festive%20claus%20merry%20holliday%20%22candy%20cane%22%20%22christmas%20tree%22%20%22christmas%20eve%22%20advent&qf=originalTitle%5E1.5%20primaryTitle%5E1.5%20synopsis%5E2&tie=0.1&rows=300&rq={!ltr%20model=myModel%20efi.text={q}}\",\n",
    "    \"http://localhost:8983/solr/imdb_movies/select?defType=dismax&fl=*%20[features]&indent=true&q.op=OR&q=space%20astronaut%20galaxy%20planets&qf=originalTitle%5E1.5%20primaryTitle%5E1.5%20synopsis%5E2&tie=0.1&rows=300&rq={!ltr%20model=myModel%20efi.text={q}}\",\n",
    "    \"http://localhost:8983/solr/imdb_movies/select?defType=dismax&fl=*%20[features]&indent=true&q.op=OR&q=romance%20teen%5E3.0%20crush%20heart-break%5E3.0%20%22in%20love%22%5E2.0%20high-school%5E2.0%20college%20friends%20friendship%20campus%20gossip%20passion%20attraction&qf=originalTitle%5E1.5%20primaryTitle%5E1.5%20synopsis%5E2&tie=0.1&rows=300&rq={!ltr%20model=myModel%20efi.text={q}}\"\n",
    "]\n",
    "\n",
    "CHRISTMAS_QRELS_FILE = \"../qrels_files/christmas_movies.txt\"\n",
    "SPACE_QRELS_FILE = \"../qrels_files/space_movies.txt\"\n",
    "ROMANCE_TEEN_QRELS_FILE = \"../qrels_files/romance_teen.txt\""
   ]
  },
  {
   "cell_type": "code",
   "execution_count": 3,
   "metadata": {},
   "outputs": [],
   "source": [
    "info = [\n",
    "    {\n",
    "        \"query_url\": QUERIES[0],\n",
    "        \"qrels_file\": CHRISTMAS_QRELS_FILE,\n",
    "    },\n",
    "    {\n",
    "        \"query_url\": QUERIES[1],\n",
    "        \"qrels_file\": SPACE_QRELS_FILE,\n",
    "    },\n",
    "    {\n",
    "        \"query_url\": QUERIES[2],\n",
    "        \"qrels_file\": ROMANCE_TEEN_QRELS_FILE,\n",
    "    }\n",
    "]"
   ]
  },
  {
   "cell_type": "code",
   "execution_count": 4,
   "metadata": {},
   "outputs": [],
   "source": [
    "modelTemplate = {\n",
    "    \"class\": \"org.apache.solr.ltr.model.LinearModel\",\n",
    "    \"name\": \"myModel\",\n",
    "    \"features\": [\n",
    "        { \"name\" : \"rawYear\" },\n",
    "        { \"name\" : \"increment\" },\n",
    "        { \"name\" : \"queryMatchTitle\" },\n",
    "        { \"name\": \"queryMatchSynopsis\" },\n",
    "        { \"name\": \"originalScore\" }\n",
    "    ],\n",
    "    \"params\": {\n",
    "        \"weights\": {\n",
    "            \"rawYear\": 0,\n",
    "            \"increment\": 0,\n",
    "            \"queryMatchTitle\": 0,\n",
    "            \"queryMatchSynopsis\": 0,\n",
    "            \"originalScore\": 0\n",
    "        }\n",
    "    }\n",
    "}"
   ]
  },
  {
   "cell_type": "code",
   "execution_count": 5,
   "metadata": {},
   "outputs": [],
   "source": [
    "def extract_features(row):\n",
    "    result = []\n",
    "    features = row['[features]'].split(',')\n",
    "\n",
    "    for idx, feature in enumerate(features, start=1):\n",
    "        result.append(f\" {idx}:{feature.split('=')[1]}\")\n",
    "    \n",
    "    return ''.join(result)\n",
    "\n",
    "def convert_to_dat_format(row, qid, relevant):\n",
    "    # <line> .=. <target> qid:<qid> <feature>:<value> <feature>:<value> ... <feature>:<value> # <info>\n",
    "    target = 1 if row['tconst'] in relevant else 0\n",
    "    features = extract_features(row)\n",
    "\n",
    "    return f\"{target} qid:{qid}{features} # {row['tconst']}\\n\"\n",
    "\n",
    "def train_model():\n",
    "    args = \"../ltr/svm_rank/svm_rank_learn -c 7 ../ltr/machine_learning/train.dat ../ltr/machine_learning/model.dat\"\n",
    "    subprocess.run(args.split())\n",
    "\n",
    "def update_model_weights():\n",
    "    with open(\"../ltr/machine_learning/model.dat\") as file:\n",
    "        lines = file.read().split(\"\\n\")\n",
    "        # We only really care about the last line\n",
    "        for idx in range(-1, -len(lines)-1, -1):\n",
    "            param_line = lines[idx]\n",
    "            if param_line:\n",
    "                break\n",
    "\n",
    "        param_line = param_line.split()\n",
    "        params = []\n",
    "        for param in param_line:\n",
    "            if \":\" not in param:\n",
    "                continue\n",
    "            param_info = param.split(\":\")\n",
    "            params.append((int(param_info[0])-1, float(param_info[1])))\n",
    "\n",
    "    # Plug the parameters into our template\n",
    "    for param in params:\n",
    "        modelTemplate[\"params\"][\"weights\"][modelTemplate[\"features\"][param[0]][\"name\"]] = param[1]\n",
    "\n",
    "    # Write content to json file\n",
    "    with open(\"../ltr/model.json\", \"w\") as file:\n",
    "        json.dump(modelTemplate, file)"
   ]
  },
  {
   "cell_type": "code",
   "execution_count": 6,
   "metadata": {},
   "outputs": [],
   "source": [
    "lines = []\n",
    "for idx, query_info in enumerate(info, start=1):\n",
    "    relevant = list(map(lambda el: el.strip(), open(query_info['qrels_file']).readlines()))\n",
    "    results = requests.get(query_info['query_url']).json()[\"response\"][\"docs\"]\n",
    "\n",
    "    df = pd.DataFrame(results)\n",
    "\n",
    "    lines.extend(df.apply(lambda row: convert_to_dat_format(row, idx, relevant), axis=1))\n",
    "\n",
    "with open(\"../ltr/machine_learning/train.dat\", 'w') as file:\n",
    "    file.writelines(lines)"
   ]
  },
  {
   "cell_type": "code",
   "execution_count": 7,
   "metadata": {},
   "outputs": [],
   "source": [
    "train_model()"
   ]
  },
  {
   "cell_type": "code",
   "execution_count": null,
   "metadata": {},
   "outputs": [],
   "source": [
    "update_model_weights()"
   ]
  }
 ],
 "metadata": {
  "kernelspec": {
   "display_name": "Python 3",
   "language": "python",
   "name": "python3"
  },
  "language_info": {
   "codemirror_mode": {
    "name": "ipython",
    "version": 3
   },
   "file_extension": ".py",
   "mimetype": "text/x-python",
   "name": "python",
   "nbconvert_exporter": "python",
   "pygments_lexer": "ipython3",
   "version": "3.10.5"
  },
  "orig_nbformat": 4,
  "vscode": {
   "interpreter": {
    "hash": "4faa59b1914308717cc78f809b0e619aee1c6f74c4ddccad8c7692e74bb65391"
   }
  }
 },
 "nbformat": 4,
 "nbformat_minor": 2
}
