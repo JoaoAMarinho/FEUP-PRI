{
 "cells": [
  {
   "cell_type": "code",
   "execution_count": 161,
   "metadata": {},
   "outputs": [],
   "source": [
    "import pandas as pd\n",
    "import requests\n",
    "from subprocess import call\n",
    "import sys, os"
   ]
  },
  {
   "cell_type": "code",
   "execution_count": 156,
   "metadata": {},
   "outputs": [],
   "source": [
    "QUERIES = [ \n",
    "    \"http://localhost:8983/solr/imdb_movies/select?defType=dismax&fl=*%20[features]&indent=true&q.op=OR&q=christmas%5E2%20santa%5E2%20snow%20elf%20rodolf%20festive%20claus%20merry%20holliday%20%22candy%20cane%22%20%22christmas%20tree%22%20%22christmas%20eve%22%20advent&qf=originalTitle%5E1.5%20primaryTitle%5E1.5%20synopsis%5E2&tie=0.1&rows=300&rq={!ltr%20model=myModel%20efi.text={q}}\",\n",
    "    \"http://localhost:8983/solr/imdb_movies/select?defType=dismax&fl=*%20[features]&indent=true&q.op=OR&q=space%20astronaut%20galaxy%20planets&qf=originalTitle%5E1.5%20primaryTitle%5E1.5%20synopsis%5E2&tie=0.1&rows=300&rq={!ltr%20model=myModel%20efi.text={q}}\",\n",
    "    \"http://localhost:8983/solr/imdb_movies/select?defType=dismax&fl=*%20[features]&indent=true&q.op=OR&q=romance%20teen%5E3.0%20crush%20heart-break%5E3.0%20%22in%20love%22%5E2.0%20high-school%5E2.0%20college%20friends%20friendship%20campus%20gossip%20passion%20attraction&qf=originalTitle%5E1.5%20primaryTitle%5E1.5%20synopsis%5E2&tie=0.1&rows=300&rq={!ltr%20model=myModel%20efi.text={q}}\"\n",
    "]\n",
    "\n",
    "CHRISTMAS_QRELS_FILE = \"../qrels_files/christmas_movies.txt\"\n",
    "SPACE_QRELS_FILE = \"../qrels_files/space_movies.txt\"\n",
    "ROMANCE_TEEN_QRELS_FILE = \"../qrels_files/romance_teen.txt\""
   ]
  },
  {
   "cell_type": "code",
   "execution_count": 157,
   "metadata": {},
   "outputs": [],
   "source": [
    "info = [\n",
    "    {\n",
    "        \"query_url\": QUERIES[0],\n",
    "        \"qrels_file\": CHRISTMAS_QRELS_FILE,\n",
    "    },\n",
    "    {\n",
    "        \"query_url\": QUERIES[1],\n",
    "        \"qrels_file\": SPACE_QRELS_FILE,\n",
    "    },\n",
    "    {\n",
    "        \"query_url\": QUERIES[2],\n",
    "        \"qrels_file\": ROMANCE_TEEN_QRELS_FILE,\n",
    "    }\n",
    "]"
   ]
  },
  {
   "cell_type": "code",
   "execution_count": 158,
   "metadata": {},
   "outputs": [],
   "source": [
    "def extract_features(row):\n",
    "    result = []\n",
    "    features = row['[features]'].split(',')\n",
    "\n",
    "    for idx, feature in enumerate(features, start=1):\n",
    "        result.append(f\" {idx}:{feature.split('=')[1]}\")\n",
    "    \n",
    "    return ''.join(result)\n",
    "\n",
    "def convert_to_dat(row, qid, relevant):\n",
    "    # <line> .=. <target> qid:<qid> <feature>:<value> <feature>:<value> ... <feature>:<value> # <info>\n",
    "    target = 1 if row['tconst'] in relevant else 0\n",
    "    features = extract_features(row)\n",
    "\n",
    "    return f\"{target} qid:{qid}{features} # {row['tconst']}\\n\"\n"
   ]
  },
  {
   "cell_type": "code",
   "execution_count": 159,
   "metadata": {},
   "outputs": [],
   "source": [
    "lines = []\n",
    "for idx, query_info in enumerate(info, start=1):\n",
    "    relevant = list(map(lambda el: el.strip(), open(query_info['qrels_file']).readlines()))\n",
    "    results = requests.get(query_info['query_url']).json()[\"response\"][\"docs\"]\n",
    "\n",
    "    df = pd.DataFrame(results)\n",
    "\n",
    "    lines.extend(df.apply(lambda row: convert_to_dat(row, idx, relevant), axis=1))\n",
    "\n",
    "with open(\"../ltr/data/train.dat\", 'w') as file:\n",
    "    file.writelines(lines)"
   ]
  },
  {
   "attachments": {},
   "cell_type": "markdown",
   "metadata": {},
   "source": [
    "### Train model"
   ]
  }
 ],
 "metadata": {
  "kernelspec": {
   "display_name": "Python 3",
   "language": "python",
   "name": "python3"
  },
  "language_info": {
   "codemirror_mode": {
    "name": "ipython",
    "version": 3
   },
   "file_extension": ".py",
   "mimetype": "text/x-python",
   "name": "python",
   "nbconvert_exporter": "python",
   "pygments_lexer": "ipython3",
   "version": "3.10.5"
  },
  "orig_nbformat": 4,
  "vscode": {
   "interpreter": {
    "hash": "4faa59b1914308717cc78f809b0e619aee1c6f74c4ddccad8c7692e74bb65391"
   }
  }
 },
 "nbformat": 4,
 "nbformat_minor": 2
}
