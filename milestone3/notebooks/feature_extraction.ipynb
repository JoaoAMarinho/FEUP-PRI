{
 "cells": [
  {
   "cell_type": "code",
   "execution_count": 122,
   "metadata": {},
   "outputs": [],
   "source": [
    "import pandas as pd\n",
    "import requests"
   ]
  },
  {
   "cell_type": "code",
   "execution_count": 123,
   "metadata": {},
   "outputs": [],
   "source": [
    "queries = [ \"http://localhost:8983/solr/imdb_movies/select?defType=dismax&fl=score%20*%20[features]&indent=true&q.op=OR&q=christmas%5E2%20santa%5E2%20snow%20elf%20rodolf%20festive%20claus%20merry%20holliday%20%22candy%20cane%22%20%22christmas%20tree%22%20%22christmas%20eve%22%20advent&qf=originalTitle%5E1.5%20primaryTitle%5E1.5%20synopsis%5E2&tie=0.1&rows=300\" ]"
   ]
  },
  {
   "cell_type": "code",
   "execution_count": 124,
   "metadata": {},
   "outputs": [],
   "source": [
    "def extract_features(row):\n",
    "    result = []\n",
    "    features = row['[features]'].split(',')\n",
    "\n",
    "    for idx, feature in enumerate(features, start=1):\n",
    "        result.append(f\" {idx}:{feature.split('=')[1]}\")\n",
    "    \n",
    "    return ''.join(result)\n",
    "\n",
    "def convert_to_dat(row, relevant):\n",
    "    # <line> .=. <target> qid:<qid> <feature>:<value> <feature>:<value> ... <feature>:<value> # <info>\n",
    "    target = 1 if row['tconst'] in relevant else 0\n",
    "    features = extract_features(row)\n",
    "\n",
    "    return f\"{target} qid:1{features} # {row['tconst']}\\n\"\n"
   ]
  },
  {
   "cell_type": "code",
   "execution_count": 125,
   "metadata": {},
   "outputs": [],
   "source": [
    "query = queries[0]\n",
    "relevant = list(map(lambda el: el.strip(), open(\"../qrels_files/christmas_movies.txt\").readlines()))\n",
    "\n",
    "results = requests.get(query).json()[\"response\"][\"docs\"]\n",
    "df = pd.DataFrame(results)\n",
    "\n",
    "lines = df.apply(lambda row: convert_to_dat(row, relevant), axis=1)\n",
    "with open(\"../ltr/data/train.dat\", 'w') as file:\n",
    "    file.writelines(lines)"
   ]
  }
 ],
 "metadata": {
  "kernelspec": {
   "display_name": "Python 3",
   "language": "python",
   "name": "python3"
  },
  "language_info": {
   "codemirror_mode": {
    "name": "ipython",
    "version": 3
   },
   "file_extension": ".py",
   "mimetype": "text/x-python",
   "name": "python",
   "nbconvert_exporter": "python",
   "pygments_lexer": "ipython3",
   "version": "3.10.5"
  },
  "orig_nbformat": 4,
  "vscode": {
   "interpreter": {
    "hash": "4faa59b1914308717cc78f809b0e619aee1c6f74c4ddccad8c7692e74bb65391"
   }
  }
 },
 "nbformat": 4,
 "nbformat_minor": 2
}
