{
 "cells": [
  {
   "cell_type": "code",
   "execution_count": 22,
   "metadata": {},
   "outputs": [],
   "source": [
    "import matplotlib.pyplot as plt\n",
    "from sklearn.metrics import PrecisionRecallDisplay\n",
    "import numpy as np\n",
    "import json\n",
    "import requests\n",
    "import pandas as pd\n",
    "from metrics import calculate_metric\n"
   ]
  },
  {
   "cell_type": "markdown",
   "metadata": {},
   "source": [
    "### Create sample df\n"
   ]
  },
  {
   "cell_type": "code",
   "execution_count": 23,
   "metadata": {},
   "outputs": [],
   "source": [
    "# df = pd.read_csv('../data/data.csv')\n",
    "\n",
    "# christmas_sample = ['tt1430607', 'tt13381368', 'tt0104940',  'tt13320784', 'tt13356246', 'tt6269192', 'tt0319343', 'tt0314331', 'tt0107688', 'tt3626180',  'tt1519929', 'tt1327788', 'tt2990140']\n",
    "# space_sample = ['tt1182345', 'tt1446714', 'tt1454468', 'tt0448134', 'tt0816692', 'tt0119116', 'tt0119177', 'tt0118884', 'tt0796366', 'tt1408101', 'tt0134847', 'tt2015381', 'tt3659388', 'tt3896198', 'tt0379786', 'tt3748528','tt21157976', 'tt15609374', 'tt12483148', 'tt5597272', 'tt14191506', 'tt7794734', 'tt11771702', 'tt9782756', 'tt13347662', 'tt4372340', 'tt7918178', 'tt3351386', 'tt6024606', 'tt4859370', 'tt12787166', 'tt15663664']\n",
    "# teen_sample = ['tt0435679', 'tt2582846', 'tt2582496', 'tt2962876', 'tt1714206', 'tt0910970', 'tt1282140', 'tt0377092', 'tt2205697', 'tt0398286', 'tt0109830', 'tt1798709', 'tt0467406', 'tt2980648', 'tt1659337', 'tt1010048', 'tt0817177', 'tt0181875', 'tt0338013', 'tt0338013', 'tt1924396', 'tt0414387', 'tt0332280', 'tt0462610', 'tt1838737', 'tt3846674', 'tt6472976', 'tt1638002', 'tt2674426', 'tt0147800', 'tt1022603', 'tt3783958', 'tt2194499']\n",
    "\n",
    "# relevant_ids = christmas_sample + space_sample + teen_sample;\n",
    "\n",
    "# filtered_df = df[~df['tconst'].isin(relevant_ids)]\n",
    "# relevant_sample = df[df['tconst'].isin(relevant_ids)]\n",
    "\n",
    "# sample = filtered_df.sample(n=222)\n",
    "# sample.append(relevant_sample)\n",
    "# sample.to_csv('../data/sample.csv', index=False)\n"
   ]
  },
  {
   "cell_type": "markdown",
   "metadata": {},
   "source": [
    "### Evaluation\n"
   ]
  },
  {
   "cell_type": "code",
   "execution_count": 24,
   "metadata": {},
   "outputs": [],
   "source": [
    "CHRISTMAS_QRELS_FILE = \"../qrels_files/christmas_movies.txt\"\n",
    "ROMANCE_TEEN_QRELS_FILE = \"../qrels_files/romance_teen.txt\"\n",
    "SPACE_QRELS_FILE = \"../qrels_files/space_movies.txt\"\n",
    "\n",
    "CHRISTMAS_QUERY_URL = \"http://localhost:8983/solr/imdb_movies/select?bq=primaryTitle%3A%20christmas%5E5.0%20synopsis%3Achristmas%5E3&defType=dismax&fl=score%20*&indent=true&q.op=OR&q=christmas%5E2%20santa%5E2%20snow%20elf%20rodolf%20festive%20claus%20merry%20holliday%20%22candy%20cane%22%20%22christmas%20tree%22%20eve%20advent&qf=originalTitle%5E1.5%20primaryTitle%5E1.5%20synopsis%5E2&tie=0.1\"\n",
    "ROMANCE_TEEN_QUERY_URL = \"http://localhost:8983/solr/imdb_movies/select?bq=genres%3Adrama%20genres%3Aromance&defType=dismax&fl=score%20*&indent=true&q.op=OR&q=romance%20teen%20crush%20heart-break%20%5C%22in%20love%5C%22%20high-school%20college%20friends%20friendship%20campus%20gossip%20passion%20attraction&qf=originalTitle%5E1.5%20primaryTitle%5E1.5%20synopsis%5E2&tie=0.1\"\n",
    "SPACE_QUERY_URL = \"http://localhost:8983/solr/imdb_movies/select?bq=genres%3Asci-fi%5E3.0%20synopsis%3Astars&defType=dismax&fl=score%20*&indent=true&q.op=OR&q=space%20astronaut%20galaxy%20planets&qf=originalTitle%5E1.5%20primaryTitle%5E1.5%20synopsis%5E2&tie=0.1\"\n"
   ]
  },
  {
   "cell_type": "code",
   "execution_count": 25,
   "metadata": {},
   "outputs": [],
   "source": [
    "info = {\n",
    "    \"christmas_movies\": {\n",
    "        \"query_url\": CHRISTMAS_QUERY_URL,\n",
    "        \"qrels_file\": CHRISTMAS_QRELS_FILE,\n",
    "    },\n",
    "    \"space_movies\": {\n",
    "        \"query_url\": SPACE_QUERY_URL,\n",
    "        \"qrels_file\": SPACE_QRELS_FILE,\n",
    "    },\n",
    "    \"romance_teen_movies\": {\n",
    "        \"query_url\": ROMANCE_TEEN_QUERY_URL,\n",
    "        \"qrels_file\": ROMANCE_TEEN_QRELS_FILE,\n",
    "    },\n",
    "}"
   ]
  },
  {
   "cell_type": "code",
   "execution_count": 26,
   "metadata": {},
   "outputs": [
    {
     "name": "stderr",
     "output_type": "stream",
     "text": [
      "/var/folders/04/05jdn06x4bd37twbh8c046nr0000gn/T/ipykernel_26249/3275513990.py:19: FutureWarning: In future versions `DataFrame.to_latex` is expected to utilise the base implementation of `Styler.to_latex` for formatting and rendering. The arguments signature may therefore change. It is recommended instead to use `DataFrame.style.to_latex` which also contains additional functionality.\n",
      "  tf.write(df.to_latex())\n",
      "/var/folders/04/05jdn06x4bd37twbh8c046nr0000gn/T/ipykernel_26249/3275513990.py:19: FutureWarning: In future versions `DataFrame.to_latex` is expected to utilise the base implementation of `Styler.to_latex` for formatting and rendering. The arguments signature may therefore change. It is recommended instead to use `DataFrame.style.to_latex` which also contains additional functionality.\n",
      "  tf.write(df.to_latex())\n",
      "/var/folders/04/05jdn06x4bd37twbh8c046nr0000gn/T/ipykernel_26249/3275513990.py:19: FutureWarning: In future versions `DataFrame.to_latex` is expected to utilise the base implementation of `Styler.to_latex` for formatting and rendering. The arguments signature may therefore change. It is recommended instead to use `DataFrame.style.to_latex` which also contains additional functionality.\n",
      "  tf.write(df.to_latex())\n"
     ]
    },
    {
     "data": {
      "image/png": "[encoded data removed]",
      "text/plain": [
       "<Figure size 432x288 with 1 Axes>"
      ]
     },
     "metadata": {
      "needs_background": "light"
     },
     "output_type": "display_data"
    },
    {
     "data": {
      "image/png": "[encoded data removed]",
      "text/plain": [
       "<Figure size 432x288 with 1 Axes>"
      ]
     },
     "metadata": {
      "needs_background": "light"
     },
     "output_type": "display_data"
    },
    {
     "data": {
      "image/png": "[encoded data removed]",
      "text/plain": [
       "<Figure size 432x288 with 1 Axes>"
      ]
     },
     "metadata": {
      "needs_background": "light"
     },
     "output_type": "display_data"
    }
   ],
   "source": [
    "for movie_type in info.keys():\n",
    "  # Read qrels to extract relevant documents\n",
    "  relevant = list(map(lambda el: el.strip(), open(info[movie_type]['qrels_file']).readlines()))\n",
    "  # Get query results from Solr instance\n",
    "  results = requests.get(info[movie_type]['query_url']).json()[\"response\"][\"docs\"]\n",
    "  # Define metrics to be calculated\n",
    "  evaluation_metrics = {\"ap\": \"Average Precision\", \"p10\": \"Precision at 10 (P@10)\"}\n",
    "\n",
    "  # Calculate all metrics and export results as LaTeX table\n",
    "  df = pd.DataFrame(\n",
    "      [[\"Metric\", \"Value\"]]\n",
    "      + [\n",
    "          [evaluation_metrics[m], calculate_metric(m, results, relevant)]\n",
    "          for m in evaluation_metrics\n",
    "      ]\n",
    "  )\n",
    "\n",
    "  with open(f\"../results/{movie_type}_results.tex\", \"w\") as tf:\n",
    "      tf.write(df.to_latex())\n",
    "\n",
    "    # PRECISION-RECALL CURVE\n",
    "    # Calculate precision and recall values as we move down the ranked list\n",
    "  precision_values = [\n",
    "        len([doc for doc in results[:idx] if doc[\"tconst\"][0] in relevant]) / idx\n",
    "        for idx, _ in enumerate(results, start=1)\n",
    "    ]\n",
    "\n",
    "  recall_values = [\n",
    "        len([doc for doc in results[:idx] if doc[\"tconst\"][0] in relevant]) / len(relevant)\n",
    "        for idx, _ in enumerate(results, start=1)\n",
    "    ]\n",
    "\n",
    "  precision_recall_match = {k: v for k, v in zip(recall_values, precision_values)}\n",
    "\n",
    "    # Extend recall_values to include traditional steps for a better curve (0.1, 0.2 ...)\n",
    "  recall_values.extend(\n",
    "        [step for step in np.arange(0.1, 1.1, 0.1) if step not in recall_values]\n",
    "    )\n",
    "  recall_values = sorted(set(recall_values))\n",
    "\n",
    "    # Extend matching dict to include these new intermediate steps\n",
    "  for idx, step in enumerate(recall_values):\n",
    "        if step not in precision_recall_match:\n",
    "            if recall_values[idx - 1] in precision_recall_match:\n",
    "                precision_recall_match[step] = precision_recall_match[\n",
    "                    recall_values[idx - 1]\n",
    "                ]\n",
    "            else:\n",
    "                precision_recall_match[step] = precision_recall_match[\n",
    "                    recall_values[idx + 1]\n",
    "                ]\n",
    "\n",
    "  disp = PrecisionRecallDisplay(\n",
    "        [precision_recall_match.get(r) for r in recall_values], recall_values\n",
    "    )\n",
    "  disp.plot()\n",
    "  plt.title(movie_type)\n",
    "  plt.savefig(f\"../results/{movie_type}_precision_recall.pdf\")\n"
   ]
  }
 ],
 "metadata": {
  "kernelspec": {
   "display_name": "Python 3.10.4 64-bit",
   "language": "python",
   "name": "python3"
  },
  "language_info": {
   "codemirror_mode": {
    "name": "ipython",
    "version": 3
   },
   "file_extension": ".py",
   "mimetype": "text/x-python",
   "name": "python",
   "nbconvert_exporter": "python",
   "pygments_lexer": "ipython3",
   "version": "3.10.4"
  },
  "orig_nbformat": 4,
  "vscode": {
   "interpreter": {
    "hash": "aee8b7b246df8f9039afb4144a1f6fd8d2ca17a180786b69acc140d282b71a49"
   }
  }
 },
 "nbformat": 4,
 "nbformat_minor": 2
}
